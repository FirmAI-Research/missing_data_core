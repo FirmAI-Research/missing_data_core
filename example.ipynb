{
 "cells": [
  {
   "cell_type": "code",
   "execution_count": 1,
   "id": "a8def207",
   "metadata": {},
   "outputs": [],
   "source": [
    "from imputation import core_utils, core_imputation_model\n",
    "import numpy as np\n",
    "from tqdm.notebook import tqdm"
   ]
  },
  {
   "cell_type": "code",
   "execution_count": 6,
   "id": "48118b53",
   "metadata": {},
   "outputs": [],
   "source": [
    "import importlib"
   ]
  },
  {
   "cell_type": "code",
   "execution_count": 7,
   "id": "403ae461",
   "metadata": {},
   "outputs": [
    {
     "data": {
      "text/plain": [
       "<module 'imputation.core_utils' from '/home/svenl/repos/research/pelger/missing_data_core/imputation/core_utils.py'>"
      ]
     },
     "execution_count": 7,
     "metadata": {},
     "output_type": "execute_result"
    }
   ],
   "source": [
    "importlib.reload(core_utils)"
   ]
  },
  {
   "cell_type": "code",
   "execution_count": 2,
   "id": "a55b9459",
   "metadata": {},
   "outputs": [
    {
     "data": {
      "application/vnd.jupyter.widget-view+json": {
       "model_id": "ccd105aab9754cff9ff26c755c0480f5",
       "version_major": 2,
       "version_minor": 0
      },
      "text/plain": [
       "  0%|          | 0/528 [00:00<?, ?it/s]"
      ]
     },
     "metadata": {},
     "output_type": "display_data"
    }
   ],
   "source": [
    "data_path = \"data/raw_chars_returns_df_yearly_fb_monthly_avg.fthr\"\n",
    "percentile_rank_chars, raw_chars, chars, date_vals, returns, permnos, quarterly_updates = core_utils.get_data_panel(\n",
    "    path=data_path, computstat_data_present_filter=True,start_date=19770000)"
   ]
  },
  {
   "cell_type": "code",
   "execution_count": 8,
   "id": "3709365e",
   "metadata": {},
   "outputs": [],
   "source": [
    "char_groupings = core_utils.CHAR_GROUPINGS"
   ]
  },
  {
   "cell_type": "markdown",
   "id": "6b3fabef",
   "metadata": {},
   "source": [
    "# Local Fit"
   ]
  },
  {
   "cell_type": "code",
   "execution_count": 18,
   "id": "81a12d6f",
   "metadata": {},
   "outputs": [
    {
     "name": "stdout",
     "output_type": "stream",
     "text": [
      "6\n"
     ]
    },
    {
     "data": {
      "application/vnd.jupyter.widget-view+json": {
       "model_id": "880d9be54b7247cd8d55e0bcbdda2f60",
       "version_major": 2,
       "version_minor": 0
      },
      "text/plain": [
       "  0%|          | 0/45 [00:00<?, ?it/s]"
      ]
     },
     "metadata": {},
     "output_type": "display_data"
    },
    {
     "name": "stdout",
     "output_type": "stream",
     "text": [
      "(22351, 45)\n"
     ]
    },
    {
     "data": {
      "application/vnd.jupyter.widget-view+json": {
       "model_id": "a887aac9e7fb4dc697e01a161e3fe4f7",
       "version_major": 2,
       "version_minor": 0
      },
      "text/plain": [
       "  0%|          | 0/527 [00:00<?, ?it/s]"
      ]
     },
     "metadata": {},
     "output_type": "display_data"
    },
    {
     "name": "stdout",
     "output_type": "stream",
     "text": [
      "1\n"
     ]
    },
    {
     "data": {
      "application/vnd.jupyter.widget-view+json": {
       "model_id": "472d37777c3645dca11e2423441432a9",
       "version_major": 2,
       "version_minor": 0
      },
      "text/plain": [
       "  0%|          | 0/45 [00:00<?, ?it/s]"
      ]
     },
     "metadata": {},
     "output_type": "display_data"
    }
   ],
   "source": [
    "# extract factors & loadings\n",
    "importlib.reload(core_utils)\n",
    "importlib.reload(core_imputation_model)\n",
    "T = percentile_rank_chars.shape[0]\n",
    "gamma_ts, lmbda, return_mask, missing_counts = core_imputation_model.fit_factors_and_loadings(percentile_rank_chars, \n",
    "   returns, min_chars=10, K=6, num_months_train=T, \n",
    "    time_varying_lambdas=False, adaptive_reg=True, min_reg=-3, \n",
    "   max_reg=-1)\n",
    "\n",
    "local_bw = core_imputation_model.impute_chars(gamma_ts, percentile_rank_chars, \n",
    "                                     \"last_val\", num_months_train=T,\n",
    "                                                       window_size=1)\n",
    "del local_bw\n",
    "\n",
    "local_xs = core_imputation_model.impute_chars(gamma_ts, percentile_rank_chars, \n",
    "                                         \"None\", num_months_train=T,\n",
    "                                                           window_size=1)\n",
    "del local_xs\n",
    "\n",
    "local_ts = core_imputation_model.impute_chars(None, percentile_rank_chars, \n",
    "                                         \"last_val\", num_months_train=T,\n",
    "                                                               window_size=1)\n",
    "del local_ts"
   ]
  },
  {
   "cell_type": "markdown",
   "id": "84eb0e7d",
   "metadata": {},
   "source": [
    "# Gobal Fit"
   ]
  },
  {
   "cell_type": "code",
   "execution_count": null,
   "id": "d0f95012",
   "metadata": {},
   "outputs": [
    {
     "data": {
      "application/vnd.jupyter.widget-view+json": {
       "model_id": "446694d04d5c4b709b12568319926b29",
       "version_major": 2,
       "version_minor": 0
      },
      "text/plain": [
       "  0%|          | 0/528 [00:00<?, ?it/s]"
      ]
     },
     "metadata": {},
     "output_type": "display_data"
    },
    {
     "data": {
      "application/vnd.jupyter.widget-view+json": {
       "model_id": "0e13b49edcf74f6abad287a90e7ee43f",
       "version_major": 2,
       "version_minor": 0
      },
      "text/plain": [
       "  0%|          | 0/527 [00:00<?, ?it/s]"
      ]
     },
     "metadata": {},
     "output_type": "display_data"
    },
    {
     "name": "stdout",
     "output_type": "stream",
     "text": [
      "(22351, 45)\n"
     ]
    },
    {
     "data": {
      "application/vnd.jupyter.widget-view+json": {
       "model_id": "fcb4e38d45154457947f7b7012ecea14",
       "version_major": 2,
       "version_minor": 0
      },
      "text/plain": [
       "  0%|          | 0/527 [00:00<?, ?it/s]"
      ]
     },
     "metadata": {},
     "output_type": "display_data"
    },
    {
     "data": {
      "application/vnd.jupyter.widget-view+json": {
       "model_id": "7b165f88542a44ee8b7bdbe8c3f2413b",
       "version_major": 2,
       "version_minor": 0
      },
      "text/plain": [
       "  0%|          | 0/312172636 [00:00<?, ?it/s]"
      ]
     },
     "metadata": {},
     "output_type": "display_data"
    }
   ],
   "source": [
    "\n",
    "T = percentile_rank_chars.shape[0]\n",
    "gamma_ts, lmbda, return_mask, missing_counts = core_imputation_model.fit_factors_and_loadings(percentile_rank_chars, \n",
    "   returns, min_chars=10, K=6, num_months_train=T, \n",
    "    time_varying_lambdas=True, adaptive_reg=True, min_reg=-3, \n",
    "   max_reg=-1)\n",
    "\n",
    "global_fwbw = core_imputation_model.impute_chars(gamma_ts, percentile_rank_chars, \n",
    "                                         \"fwbw\", num_months_train=T,\n",
    "                                                           window_size=None)\n",
    "del global_fwbw\n",
    "\n",
    "\n",
    "global_fw = core_imputation_model.impute_chars(gamma_ts, percentile_rank_chars, \n",
    "                                         \"next_val\", num_months_train=T,\n",
    "                                                           window_size=None)\n",
    "del global_fw\n",
    "\n",
    "\n",
    "global_bw = core_imputation_model.impute_chars(gamma_ts, percentile_rank_chars, \n",
    "                                         \"last_val\", num_months_train=T,\n",
    "                                                           window_size=None)\n",
    "del global_bw\n",
    "\n",
    "\n",
    "global_xs = core_imputation_model.impute_chars(gamma_ts, percentile_rank_chars, \n",
    "                                         \"None\", num_months_train=T,\n",
    "                                                           window_size=1)\n",
    "del global_xs"
   ]
  },
  {
   "cell_type": "code",
   "execution_count": null,
   "id": "31c1966b",
   "metadata": {},
   "outputs": [],
   "source": []
  }
 ],
 "metadata": {
  "kernelspec": {
   "display_name": "Python 3",
   "language": "python",
   "name": "python3"
  },
  "language_info": {
   "codemirror_mode": {
    "name": "ipython",
    "version": 3
   },
   "file_extension": ".py",
   "mimetype": "text/x-python",
   "name": "python",
   "nbconvert_exporter": "python",
   "pygments_lexer": "ipython3",
   "version": "3.10.6"
  }
 },
 "nbformat": 4,
 "nbformat_minor": 5
}
