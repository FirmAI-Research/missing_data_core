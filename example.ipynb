{
 "cells": [
  {
   "cell_type": "code",
   "execution_count": 1,
   "id": "a8def207",
   "metadata": {},
   "outputs": [],
   "source": [
    "from imputation import core_utils, core_imputation_model\n",
    "import numpy as np\n",
    "from tqdm.notebook import tqdm"
   ]
  },
  {
   "cell_type": "markdown",
   "id": "0fd5d4d0",
   "metadata": {},
   "source": [
    "# Data Loading"
   ]
  },
  {
   "cell_type": "markdown",
   "id": "ff8d4782",
   "metadata": {},
   "source": [
    "this method loads the data from the corresponding `data_path` this would be the feather file shared on google drive, however it is too large to host on github, it returns the characteristic percentile ranks as a numpy array of shape TxNxC where T is the number of dates N the number of stocks and C the number of characteristics, the raw characteristics, the characteristic namess, the dates, returns and permos"
   ]
  },
  {
   "cell_type": "code",
   "execution_count": 2,
   "id": "a55b9459",
   "metadata": {},
   "outputs": [
    {
     "data": {
      "application/vnd.jupyter.widget-view+json": {
       "model_id": "cdf79ddb59d842cd90e83e05e5fdbcc2",
       "version_major": 2,
       "version_minor": 0
      },
      "text/plain": [
       "  0%|          | 0/528 [00:00<?, ?it/s]"
      ]
     },
     "metadata": {},
     "output_type": "display_data"
    }
   ],
   "source": [
    "data_path = \"data/raw_chars_returns_df_yearly_fb_monthly_avg.fthr\"\n",
    "percentile_rank_chars, raw_chars, chars, date_vals, returns, permnos = core_utils.get_data_panel(\n",
    "    path=data_path, computstat_data_present_filter=True,start_date=19770000)"
   ]
  },
  {
   "cell_type": "code",
   "execution_count": 3,
   "id": "e2d413f0",
   "metadata": {},
   "outputs": [],
   "source": [
    "char_groupings = core_utils.CHAR_GROUPINGS"
   ]
  },
  {
   "cell_type": "markdown",
   "id": "7e91f2fc",
   "metadata": {},
   "source": [
    "The two methods you will be interested in are:\n",
    "- `core_imputation_model.fit_factors_and_loadings`\n",
    "- `core_imputation_model.impute_chars`\n",
    "\n",
    "The first generates the factors and loadings. \n",
    "\n",
    "The second runs the regressions to potentially combine time-series information with cross-sectional information and perform the imputation.\n",
    "\n",
    "The below examples correspond to global and local fits, the parameters are documented in the function definition. "
   ]
  },
  {
   "cell_type": "markdown",
   "id": "139f7023",
   "metadata": {},
   "source": [
    "# Local Fit"
   ]
  },
  {
   "cell_type": "code",
   "execution_count": 5,
   "id": "81a12d6f",
   "metadata": {},
   "outputs": [
    {
     "ename": "UnboundLocalError",
     "evalue": "local variable 'suff_stat_method' referenced before assignment",
     "output_type": "error",
     "traceback": [
      "\u001b[0;31m---------------------------------------------------------------------------\u001b[0m",
      "\u001b[0;31mUnboundLocalError\u001b[0m                         Traceback (most recent call last)",
      "Input \u001b[0;32mIn [5]\u001b[0m, in \u001b[0;36m<cell line: 8>\u001b[0;34m()\u001b[0m\n\u001b[1;32m      1\u001b[0m \u001b[38;5;66;03m# # extract factors & loadings\u001b[39;00m\n\u001b[1;32m      2\u001b[0m \u001b[38;5;66;03m# T = percentile_rank_chars.shape[0]\u001b[39;00m\n\u001b[1;32m      3\u001b[0m \u001b[38;5;66;03m# gamma_ts, lmbda, return_mask, missing_counts = core_imputation_model.fit_factors_and_loadings(percentile_rank_chars, \u001b[39;00m\n\u001b[0;32m   (...)\u001b[0m\n\u001b[1;32m      6\u001b[0m \u001b[38;5;66;03m#    max_reg=-1)\u001b[39;00m\n\u001b[1;32m      7\u001b[0m \u001b[38;5;66;03m# run TW + xs factor regressions and impute\u001b[39;00m\n\u001b[0;32m----> 8\u001b[0m local_bw \u001b[38;5;241m=\u001b[39m \u001b[43mcore_imputation_model\u001b[49m\u001b[38;5;241;43m.\u001b[39;49m\u001b[43mimpute_chars\u001b[49m\u001b[43m(\u001b[49m\u001b[38;5;124;43m'\u001b[39;49m\u001b[38;5;124;43mBW-XS\u001b[39;49m\u001b[38;5;124;43m'\u001b[39;49m\u001b[43m,\u001b[49m\u001b[43m \u001b[49m\u001b[43mgamma_ts\u001b[49m\u001b[43m,\u001b[49m\u001b[43m \u001b[49m\u001b[43mpercentile_rank_chars\u001b[49m\u001b[43m,\u001b[49m\u001b[43m \u001b[49m\u001b[43mnum_months_train\u001b[49m\u001b[38;5;241;43m=\u001b[39;49m\u001b[43mT\u001b[49m\u001b[43m,\u001b[49m\n\u001b[1;32m      9\u001b[0m \u001b[43m                                                       \u001b[49m\u001b[43mwindow_size\u001b[49m\u001b[38;5;241;43m=\u001b[39;49m\u001b[38;5;241;43m1\u001b[39;49m\u001b[43m)\u001b[49m\n\u001b[1;32m     10\u001b[0m \u001b[38;5;28;01mdel\u001b[39;00m local_bw\n\u001b[1;32m     12\u001b[0m local_xs \u001b[38;5;241m=\u001b[39m core_imputation_model\u001b[38;5;241m.\u001b[39mimpute_chars(\u001b[38;5;124m'\u001b[39m\u001b[38;5;124mXS\u001b[39m\u001b[38;5;124m'\u001b[39m, gamma_ts, percentile_rank_chars, \n\u001b[1;32m     13\u001b[0m                                               num_months_train\u001b[38;5;241m=\u001b[39mT,\n\u001b[1;32m     14\u001b[0m                                                            window_size\u001b[38;5;241m=\u001b[39m\u001b[38;5;241m1\u001b[39m)\n",
      "File \u001b[0;32m~/repos/research/pelger/missing_data_core/imputation/core_imputation_model.py:381\u001b[0m, in \u001b[0;36mimpute_chars\u001b[0;34m(imputation_method, gamma_ts, char_data, num_months_train, window_size)\u001b[0m\n\u001b[1;32m    379\u001b[0m     suff_stat_method \u001b[38;5;241m==\u001b[39m \u001b[38;5;124m'\u001b[39m\u001b[38;5;124mNone\u001b[39m\u001b[38;5;124m'\u001b[39m\n\u001b[1;32m    380\u001b[0m \u001b[38;5;28;01melif\u001b[39;00m imputation_method \u001b[38;5;241m==\u001b[39m \u001b[38;5;124m'\u001b[39m\u001b[38;5;124mBW-XS\u001b[39m\u001b[38;5;124m'\u001b[39m:\n\u001b[0;32m--> 381\u001b[0m     \u001b[43msuff_stat_method\u001b[49m \u001b[38;5;241m==\u001b[39m \u001b[38;5;124m'\u001b[39m\u001b[38;5;124mlast_val\u001b[39m\u001b[38;5;124m'\u001b[39m\n\u001b[1;32m    382\u001b[0m \u001b[38;5;28;01melif\u001b[39;00m imputation_method \u001b[38;5;241m==\u001b[39m \u001b[38;5;124m'\u001b[39m\u001b[38;5;124mFW-XS\u001b[39m\u001b[38;5;124m'\u001b[39m:\n\u001b[1;32m    383\u001b[0m     suff_stat_method \u001b[38;5;241m==\u001b[39m \u001b[38;5;124m'\u001b[39m\u001b[38;5;124mnext_val\u001b[39m\u001b[38;5;124m'\u001b[39m\n",
      "\u001b[0;31mUnboundLocalError\u001b[0m: local variable 'suff_stat_method' referenced before assignment"
     ]
    }
   ],
   "source": [
    "# # extract factors & loadings\n",
    "# T = percentile_rank_chars.shape[0]\n",
    "# gamma_ts, lmbda, return_mask, missing_counts = core_imputation_model.fit_factors_and_loadings(percentile_rank_chars, \n",
    "#    returns, min_chars=10, K=6, num_months_train=T, \n",
    "#     time_varying_lambdas=False, adaptive_reg=True, min_reg=-3, \n",
    "#    max_reg=-1)\n",
    "# run TW + xs factor regressions and impute\n",
    "local_bw = core_imputation_model.impute_chars('BW-XS', gamma_ts, percentile_rank_chars, num_months_train=T,\n",
    "                                                       window_size=1)\n",
    "del local_bw\n",
    "\n",
    "local_xs = core_imputation_model.impute_chars('XS', gamma_ts, percentile_rank_chars, \n",
    "                                              num_months_train=T,\n",
    "                                                           window_size=1)\n",
    "del local_xs\n",
    "\n",
    "local_ts = core_imputation_model.impute_chars('BW', None, percentile_rank_chars, \n",
    "                                              num_months_train=T,\n",
    "                                                               window_size=1)\n",
    "del local_ts"
   ]
  },
  {
   "cell_type": "markdown",
   "id": "84eb0e7d",
   "metadata": {},
   "source": [
    "# Gobal Fit"
   ]
  },
  {
   "cell_type": "code",
   "execution_count": null,
   "id": "d0f95012",
   "metadata": {},
   "outputs": [
    {
     "data": {
      "application/vnd.jupyter.widget-view+json": {
       "model_id": "df4ba9ad6c17421384971872f254aa7f",
       "version_major": 2,
       "version_minor": 0
      },
      "text/plain": [
       "  0%|          | 0/528 [00:00<?, ?it/s]"
      ]
     },
     "metadata": {},
     "output_type": "display_data"
    },
    {
     "data": {
      "application/vnd.jupyter.widget-view+json": {
       "model_id": "33070abfd99748ffb23bd7f966665fc6",
       "version_major": 2,
       "version_minor": 0
      },
      "text/plain": [
       "  0%|          | 0/527 [00:00<?, ?it/s]"
      ]
     },
     "metadata": {},
     "output_type": "display_data"
    },
    {
     "name": "stdout",
     "output_type": "stream",
     "text": [
      "(22351, 45)\n"
     ]
    },
    {
     "data": {
      "application/vnd.jupyter.widget-view+json": {
       "model_id": "eafe7d0352b6490e820ef0e349bd3500",
       "version_major": 2,
       "version_minor": 0
      },
      "text/plain": [
       "  0%|          | 0/527 [00:00<?, ?it/s]"
      ]
     },
     "metadata": {},
     "output_type": "display_data"
    },
    {
     "data": {
      "application/vnd.jupyter.widget-view+json": {
       "model_id": "4226011e9bd34eb0b54037ad3f022940",
       "version_major": 2,
       "version_minor": 0
      },
      "text/plain": [
       "  0%|          | 0/312172636 [00:00<?, ?it/s]"
      ]
     },
     "metadata": {},
     "output_type": "display_data"
    }
   ],
   "source": [
    "\n",
    "T = percentile_rank_chars.shape[0]\n",
    "gamma_ts, lmbda, return_mask, missing_counts = core_imputation_model.fit_factors_and_loadings(percentile_rank_chars, \n",
    "   returns, min_chars=10, K=6, num_months_train=T, \n",
    "    time_varying_lambdas=True, adaptive_reg=True, min_reg=-3, \n",
    "   max_reg=-1)\n",
    "# run TW + xs factor regressions and impute\n",
    "global_fwbw = core_imputation_model.impute_chars('FWBW-XS', gamma_ts, percentile_rank_chars, \n",
    "                                         num_months_train=T,\n",
    "                                                           window_size=None)\n",
    "del global_fwbw\n",
    "\n",
    "\n",
    "global_fw = core_imputation_model.impute_chars('FW-XS', gamma_ts, percentile_rank_chars, \n",
    "                                         num_months_train=T,\n",
    "                                                           window_size=None)\n",
    "del global_fw\n",
    "\n",
    "\n",
    "global_bw = core_imputation_model.impute_chars('BW-XS', gamma_ts, percentile_rank_chars, \n",
    "                                         num_months_train=T,\n",
    "                                                           window_size=None)\n",
    "del global_bw\n",
    "\n",
    "\n",
    "global_xs = core_imputation_model.impute_chars('XS', gamma_ts, percentile_rank_chars, \n",
    "                                         num_months_train=T,\n",
    "                                                           window_size=1)\n",
    "del global_xs"
   ]
  },
  {
   "cell_type": "code",
   "execution_count": null,
   "id": "31c1966b",
   "metadata": {},
   "outputs": [],
   "source": []
  }
 ],
 "metadata": {
  "kernelspec": {
   "display_name": "Python 3",
   "language": "python",
   "name": "python3"
  },
  "language_info": {
   "codemirror_mode": {
    "name": "ipython",
    "version": 3
   },
   "file_extension": ".py",
   "mimetype": "text/x-python",
   "name": "python",
   "nbconvert_exporter": "python",
   "pygments_lexer": "ipython3",
   "version": "3.10.6"
  }
 },
 "nbformat": 4,
 "nbformat_minor": 5
}
