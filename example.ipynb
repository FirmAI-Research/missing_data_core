{
 "cells": [
  {
   "cell_type": "code",
   "execution_count": 1,
   "id": "a8def207",
   "metadata": {},
   "outputs": [],
   "source": [
    "from imputation import core_utils, core_imputation_model\n",
    "import numpy as np\n",
    "from tqdm.notebook import tqdm"
   ]
  },
  {
   "cell_type": "markdown",
   "id": "0e4ce880",
   "metadata": {},
   "source": [
    "# Data Loading"
   ]
  },
  {
   "cell_type": "markdown",
   "id": "d7ff8aa1",
   "metadata": {},
   "source": [
    "this method loads the data from the corresponding `data_path` this would be the feather file shared on google drive, however it is too large to host on github, it returns the characteristic percentile ranks as a numpy array of shape TxNxC where T is the number of dates N the number of stocks and C the number of characteristics, the raw characteristics, the characteristic namess, the dates, returns and permos"
   ]
  },
  {
   "cell_type": "code",
   "execution_count": null,
   "id": "a55b9459",
   "metadata": {},
   "outputs": [
    {
     "data": {
      "application/vnd.jupyter.widget-view+json": {
       "model_id": "20c4643fa19e403e99cb87c7083a4257",
       "version_major": 2,
       "version_minor": 0
      },
      "text/plain": [
       "  0%|          | 0/528 [00:00<?, ?it/s]"
      ]
     },
     "metadata": {},
     "output_type": "display_data"
    }
   ],
   "source": [
    "data_path = \"data/raw_chars_returns_df_yearly_fb_monthly_avg.fthr\"\n",
    "percentile_rank_chars, raw_chars, chars, date_vals, returns, permnos = core_utils.get_data_panel(\n",
    "    path=data_path, computstat_data_present_filter=True,start_date=19770000)"
   ]
  },
  {
   "cell_type": "code",
   "execution_count": null,
   "id": "9cf34113",
   "metadata": {},
   "outputs": [],
   "source": [
    "char_groupings = core_utils.CHAR_GROUPINGS"
   ]
  },
  {
   "cell_type": "markdown",
   "id": "fb42811e",
   "metadata": {},
   "source": [
    "# Local Fit"
   ]
  },
  {
   "cell_type": "code",
   "execution_count": null,
   "id": "81a12d6f",
   "metadata": {},
   "outputs": [],
   "source": [
    "# extract factors & loadings\n",
    "T = percentile_rank_chars.shape[0]\n",
    "gamma_ts, lmbda, return_mask, missing_counts = core_imputation_model.fit_factors_and_loadings(percentile_rank_chars, \n",
    "   returns, min_chars=10, K=6, num_months_train=T, \n",
    "    time_varying_lambdas=False, adaptive_reg=True, min_reg=-3, \n",
    "   max_reg=-1)\n",
    "# run TW + xs factor regressions and impute\n",
    "local_bw = core_imputation_model.impute_chars(gamma_ts, percentile_rank_chars, \n",
    "                                     \"last_val\", num_months_train=T,\n",
    "                                                       window_size=1)\n",
    "del local_bw\n",
    "\n",
    "local_xs = core_imputation_model.impute_chars(gamma_ts, percentile_rank_chars, \n",
    "                                         \"None\", num_months_train=T,\n",
    "                                                           window_size=1)\n",
    "del local_xs\n",
    "\n",
    "local_ts = core_imputation_model.impute_chars(None, percentile_rank_chars, \n",
    "                                         \"last_val\", num_months_train=T,\n",
    "                                                               window_size=1)\n",
    "del local_ts"
   ]
  },
  {
   "cell_type": "markdown",
   "id": "089c4d47",
   "metadata": {},
   "source": [
    "The two methods you will be interested in are:\n",
    "- `core_imputation_model.fit_factors_and_loadings`\n",
    "- `core_imputation_model.impute_chars`\n",
    "\n",
    "The first generates the factors and loadings. \n",
    "\n",
    "The second runs the regressions to potentially combine time-series information with cross-sectional information and perform the imputation.\n",
    "\n",
    "The below examples correspond to global and local fits, the parameters are documented in the function definition. "
   ]
  },
  {
   "cell_type": "markdown",
   "id": "84eb0e7d",
   "metadata": {},
   "source": [
    "# Gobal Fit"
   ]
  },
  {
   "cell_type": "code",
   "execution_count": null,
   "id": "d0f95012",
   "metadata": {},
   "outputs": [],
   "source": [
    "\n",
    "T = percentile_rank_chars.shape[0]\n",
    "gamma_ts, lmbda, return_mask, missing_counts = core_imputation_model.fit_factors_and_loadings(percentile_rank_chars, \n",
    "   returns, min_chars=10, K=6, num_months_train=T, \n",
    "    time_varying_lambdas=True, adaptive_reg=True, min_reg=-3, \n",
    "   max_reg=-1)\n",
    "# run TW + xs factor regressions and impute\n",
    "global_fwbw = core_imputation_model.impute_chars(gamma_ts, percentile_rank_chars, \n",
    "                                         \"fwbw\", num_months_train=T,\n",
    "                                                           window_size=None)\n",
    "del global_fwbw\n",
    "\n",
    "\n",
    "global_fw = core_imputation_model.impute_chars(gamma_ts, percentile_rank_chars, \n",
    "                                         \"next_val\", num_months_train=T,\n",
    "                                                           window_size=None)\n",
    "del global_fw\n",
    "\n",
    "\n",
    "global_bw = core_imputation_model.impute_chars(gamma_ts, percentile_rank_chars, \n",
    "                                         \"last_val\", num_months_train=T,\n",
    "                                                           window_size=None)\n",
    "del global_bw\n",
    "\n",
    "\n",
    "global_xs = core_imputation_model.impute_chars(gamma_ts, percentile_rank_chars, \n",
    "                                         \"None\", num_months_train=T,\n",
    "                                                           window_size=1)\n",
    "del global_xs"
   ]
  },
  {
   "cell_type": "code",
   "execution_count": null,
   "id": "31c1966b",
   "metadata": {},
   "outputs": [],
   "source": []
  }
 ],
 "metadata": {
  "kernelspec": {
   "display_name": "Python 3",
   "language": "python",
   "name": "python3"
  },
  "language_info": {
   "codemirror_mode": {
    "name": "ipython",
    "version": 3
   },
   "file_extension": ".py",
   "mimetype": "text/x-python",
   "name": "python",
   "nbconvert_exporter": "python",
   "pygments_lexer": "ipython3",
   "version": "3.10.6"
  }
 },
 "nbformat": 4,
 "nbformat_minor": 5
}
